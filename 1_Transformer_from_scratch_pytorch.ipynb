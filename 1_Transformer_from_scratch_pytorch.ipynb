{
  "nbformat": 4,
  "nbformat_minor": 0,
  "metadata": {
    "colab": {
      "provenance": [],
      "gpuType": "T4",
      "authorship_tag": "ABX9TyMQHBQdFxvvi7zGV4jOG7VS",
      "include_colab_link": true
    },
    "kernelspec": {
      "name": "python3",
      "display_name": "Python 3"
    },
    "language_info": {
      "name": "python"
    },
    "accelerator": "GPU"
  },
  "cells": [
    {
      "cell_type": "markdown",
      "metadata": {
        "id": "view-in-github",
        "colab_type": "text"
      },
      "source": [
        "<a href=\"https://colab.research.google.com/github/clysdid/from_scratch/blob/master/1_Transformer_from_scratch_pytorch.ipynb\" target=\"_parent\"><img src=\"https://colab.research.google.com/assets/colab-badge.svg\" alt=\"Open In Colab\"/></a>"
      ]
    },
    {
      "cell_type": "code",
      "execution_count": null,
      "metadata": {
        "id": "9STbDkhkpiZz"
      },
      "outputs": [],
      "source": [
        "import os\n",
        "from os.path import exists\n",
        "import torch\n",
        "import torch.nn as nn\n",
        "from torch.nn.functional import log_softmax, pad\n",
        "import math\n",
        "import copy\n",
        "import time\n",
        "from torch.optim.lr_scheduler import LambdaLR\n",
        "import pandas as pd\n",
        "import altair as alt\n",
        "from torchtext.data.functional import to_map_style_dataset\n",
        "from torch.utils.data import DataLoader\n",
        "from torchtext.vocab import build_vocab_from_iterator\n",
        "import torchtext.datasets as datasets\n",
        "import spacy\n",
        "# import GPUtil\n",
        "import warnings\n",
        "from torch.utils.data.distributed import DistributedSampler\n",
        "import torch.distributed as dist\n",
        "import torch.multiprocessing as mp\n",
        "from torch.nn.parallel import DistributedDataParallel as DDP\n",
        "\n",
        "\n",
        "# Set to False to skip notebook execution (e.g. for debugging)\n",
        "warnings.filterwarnings(\"ignore\")\n",
        "RUN_EXAMPLES = True"
      ]
    },
    {
      "cell_type": "code",
      "source": [
        "# Some convenience helper functions used throughout the notebook\n",
        "def is_interactive_notebook():\n",
        "    return __name__ == \"__main__\"\n",
        "\n",
        "def show_example(fn, args=[]):\n",
        "    if __name__ == \"__main__\" and RUN_EXAMPLES:\n",
        "        return fn(*args)\n",
        "\n",
        "def execute_example(fn, args=[]):\n",
        "    if __name__ == \"__main__\" and RUN_EXAMPLES:\n",
        "        fn(*args)\n",
        "\n",
        "class DummyOptimizer(torch.optim.Optimizer):\n",
        "    def __init__(self):\n",
        "        self.param_groups = [{\"lr\": 0}]\n",
        "        None\n",
        "\n",
        "    def step(self):\n",
        "        None\n",
        "\n",
        "    def zero_grad(self, set_to_none=False):\n",
        "        None\n",
        "\n",
        "class DummyScheduler:\n",
        "    def step(self):\n",
        "        None"
      ],
      "metadata": {
        "id": "X_w22H_zyDV2"
      },
      "execution_count": null,
      "outputs": []
    },
    {
      "cell_type": "markdown",
      "source": [
        "### Model Architecture\n",
        "- encoder-decoder구조\n",
        "- encoder: 인풋 시퀀스를 벡터 표현으로 변환\n",
        "- decoder: 아웃풋 시퀀스를 생성하는 것. 각 스텝은 모두 auto-regressive (그 다음 토큰을 예측할 때, 계속 추가적인 인풋을 사용하는 것)\n",
        "\n",
        "\n",
        "\n",
        "- src: source\n",
        "- tgt : target\n",
        "- src_mask(source_mask): 역할: 소스 시퀀스의 패딩 토큰(padding token)을 무시하거나, 문맥에 따라 처리할 필요가 없는 토큰을 필터링하는 역할을 합니다. 예를 들어, 입력 문장이 \"I love NLP\"이고, 패딩 토큰이 추가된 경우 \"I love NLP <pad> <pad>\"가 되는데, src_mask는 <pad> 토큰을 무시하도록 합니다.\n",
        "- tgt_mask: 타겟 시퀀스의 패딩 토큰을 무시하거나, 다음 단어를 예측할 때, 미래의 단어를 참조하지 못하도록 함."
      ],
      "metadata": {
        "id": "PGk0dndHqhk-"
      }
    },
    {
      "cell_type": "code",
      "source": [
        "class EncoderDecoder(nn.Module):\n",
        "  def __init__(self, encoder, decoder, src_embed, tgt_embed, generator):\n",
        "    super(EncoderDecoder, self).__init__()\n",
        "    self.encoder = encoder\n",
        "    self.decoder = decoder\n",
        "    self.src_embed = src_embed\n",
        "    self.tgt_embed = tgt_embed\n",
        "    self.generator = generator\n",
        "\n",
        "  def forward(self, src, tgt, src_mask, tgt_mask): # encoder-decode를 이어주는 역할\n",
        "    #\"Take in and process masked src and target sequences.\"\n",
        "    return self.decode(self.encode(src, src_mask), src_mask, tgt, tgt_mask)\n",
        "\n",
        "  def encode(self, src, src_mask):\n",
        "    return self.encoder(self.src_embed(src), src_mask)\n",
        "\n",
        "  def decode(self, memory, src_mask, tgt, tgt_mask):\n",
        "    return self.decoder(self.tgt_embed(tgt), memory, src_mask, tgt_mask)"
      ],
      "metadata": {
        "id": "kgVKHmQ4xFuh"
      },
      "execution_count": null,
      "outputs": []
    },
    {
      "cell_type": "code",
      "source": [
        "# 트랜스포머 마지막 단의 linear layer + softmax\n",
        "class Generator(nn.Module):\n",
        "  # define stanard linear + softmax 생성 단계\n",
        "  def __init__(self, d_model, vocab):\n",
        "    super(Generator, self).__init__()\n",
        "    self.proj = nn.Linear(d_model, vocab)\n",
        "\n",
        "  def forward(self, x):\n",
        "    return F.log_softmax(self.proj(x) , dim=-1)"
      ],
      "metadata": {
        "id": "Y3lKkZMfxFxE"
      },
      "execution_count": null,
      "outputs": []
    },
    {
      "cell_type": "markdown",
      "source": [
        "### Encoder\n",
        "- n=6으로 동일한 6개 레이어를 쌓음"
      ],
      "metadata": {
        "id": "0ncKLSwO1n2N"
      }
    },
    {
      "cell_type": "code",
      "source": [
        "def clones(module, N):\n",
        "  # n 개의 동일한 레이어 생성\n",
        "  return nn.ModuleList([copy.deepcopy(module) for _ in range(N)])"
      ],
      "metadata": {
        "id": "XY5f2aQvxF0_"
      },
      "execution_count": null,
      "outputs": []
    },
    {
      "cell_type": "markdown",
      "source": [
        "- 정규화하는 이유: 1) 내부 공변량 변화 감소를 통한 모델의 안정적 학습, 2) 일반화 성능 향상, 3) 배치 정규화와 달리 레이어  정규화는 배치크기에 독립적. 시퀀스 데이터이기 때문에 다른 배치크기에서도 안정적으로 작동 가능\n",
        "- 레이어 정규화는 레이어 전체를 정규화시키는 것을 의미함. 따라서 미니배치 사이즈에 영향받지 않음."
      ],
      "metadata": {
        "id": "7mjGPkdlhRps"
      }
    },
    {
      "cell_type": "code",
      "source": [
        "class Encoder(nn.Module):\n",
        "  # N개의 레이러를 쌓기 위한 핵심 인코더\n",
        "\n",
        "  def __init__(self, layer, N):\n",
        "    super(Encoder, self).__init__()\n",
        "    self.layers = clones(layer, N)\n",
        "    self.norm = LayerNorm(layer.size) # 정규화\n",
        "\n",
        "  def forward(self, x, mask):\n",
        "    # 각 층에 인풋(과 마스크)를 매턴마다 넘김  # 각각 레이어에 인풋과 마스크 통과\n",
        "\n",
        "    for layer in self.layers:\n",
        "        x = layer(x, mask)\n",
        "    return self.norm(x)"
      ],
      "metadata": {
        "id": "yolbLw-n15zm"
      },
      "execution_count": null,
      "outputs": []
    },
    {
      "cell_type": "markdown",
      "source": [
        "- 레이어 normalization에 나오는 2개의 서브레이어에 대해서는 residual connection 활용\n",
        "- x.mean(-1, keepdim=True)는 주어진 텐서 x에 대해 특정 축(axis)에 대한 평균을 계산하는 구문입니다.\n",
        "\n",
        "  - x.mean(-1, keepdim=True)\n",
        "  - x.mean(): x 텐서의 평균을 계산합니다.\n",
        "  - -1: 마지막 축(axis)에 대해 평균을 계산합니다.\n",
        "  - keepdim=True: 평균을 계산한 결과를 원래의 차원 수와 동일하게 유지합니다.\n",
        "- eps: 0으로 나누는 문제를 해결하기 위해, 아주 값을 더해주는 것\n",
        "\n",
        "- 코드의 의미와 계산 과정\n",
        "  1. 정규화(Normalization):\n",
        "\n",
        "    (x - mean) / (std + self.eps): 입력 텐서 x에서 평균 mean을 빼고 표준편차 std로 나눕니다.\n",
        "    self.eps는 수치 안정성을 위해 추가된 값입니다.\n",
        "  2. 선형 변환(Linear Transformation):\n",
        "\n",
        "    self.a_2 * normalized_value + self.b_2: 정규화된 값에 학습 가능한 매개변수 a_2를 곱하고, b_2를 더합니다."
      ],
      "metadata": {
        "id": "79ZO-v453nbo"
      }
    },
    {
      "cell_type": "markdown",
      "source": [
        "![image.png](data:image/png;base64,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)"
      ],
      "metadata": {
        "id": "HLdCLMAticjx"
      }
    },
    {
      "cell_type": "code",
      "source": [
        "class LayerNorm(nn.Module):\n",
        "  # layernorm module 구성\n",
        "\n",
        "  def __init__(self, features, eps = 1e-6):\n",
        "    super(LayerNorm, self).__init__()\n",
        "    self.a_2 = nn.Parameter(torch.ones(features))\n",
        "    self.b_2 = nn.Parameter(torch.zeros(features))\n",
        "    self.eps = eps\n",
        "\n",
        "  def forward(self, x):\n",
        "    mean = x.mean(-1, keepdim =True)\n",
        "    std = x.std(-1, keepdim=True)\n",
        "    return self.a_2 * (x-mean) / (std+self.eps) + self.b_2 #텐서 x에 대해 정규화. 텐서의 각 요소를 표준화하고, 그 결과를 학습 가능한 매개변수를 사용하여 선형 변환하는 과정"
      ],
      "metadata": {
        "id": "gKDTu27BxF2-"
      },
      "execution_count": null,
      "outputs": []
    },
    {
      "cell_type": "markdown",
      "source": [
        "- residual conneciton: 주어진 층(layer)의 결과를 멀리있는 다음층에도 직접 더하는 방식입니다. 이를 통해, 네트워크의 깊이가 깊어져도 학습이 잘 이루어지도록 합니다.\n",
        "- 기울기 소실 문제 완화: 역전파 동안 기울기가 직접 입력으로 전달되기 때문에, 기울기 소실 문제가 완화됩니다.\n",
        "더 깊은 네트워크 학습 가능: 네트워크가 더 깊어질수록, 일반적으로 학습이 어려워지지만, Residual Connection을 사용하면 더 깊은 네트워크도 효과적으로 학습할 수 있습니다."
      ],
      "metadata": {
        "id": "g8my-S4G6leI"
      }
    },
    {
      "cell_type": "code",
      "source": [
        "# add * norm 부분\n",
        "class SublayerConnection(nn.Module):\n",
        "  # layer norm 이후에 나오는 resuidual connection 코드의 간결성을 위해 정규화를 마지막이 아닌 처음에 수행\n",
        "  # layer norm의 잔차를 더해줌.\n",
        "  def __init__(self,size, dropout):\n",
        "    super(SublayerConnection, self).__init__()\n",
        "    self.norm = LayerNorm(size)\n",
        "    self.dropout = nn.Dropout(dropout)\n",
        "\n",
        "  def forward(self, x, sublayer):\n",
        "    # 같은 크기의 어떠한 서브레이어 residual connection 적용\n",
        "    return x + self.dropout(sublayer(self.norm(x))) # 정규화랑 dropout까지 한 결과를 기존의 원래값인 x에 더해주는 것"
      ],
      "metadata": {
        "id": "DKnmPMROxF5A"
      },
      "execution_count": null,
      "outputs": []
    },
    {
      "cell_type": "markdown",
      "source": [
        "- 각각의 레이어는 2개의 서브레이어인 (multi head attention, position wise fully connected feed forward network)으로 이루어짐\n",
        "- q: encode/decode 결과  (target)\n",
        "- K: input\n",
        "- v: 계산결과\n",
        "\n",
        "1. Encoder Self attention\n",
        "  Q = K = V = Our source sentence(English)\n",
        "\n",
        "2. Decoder Self attention\n",
        "  Q = K = V = Our target sentence(German)\n",
        "\n",
        "3.  Decoder-Encoder attention\n",
        "  Q = Our target sentence(German)\n",
        "  K = V = Our source sentence(English)"
      ],
      "metadata": {
        "id": "7HPHHZTK61xp"
      }
    },
    {
      "cell_type": "code",
      "source": [
        "class EncoderLayer(nn.Module):\n",
        "    \"Encoder is made up of self-attn and feed forward (defined below)\"     # 논문 1 왼쪽 커넥션\n",
        "\n",
        "    def __init__(self, size, self_attn, feed_forward, dropout):\n",
        "        super(EncoderLayer, self).__init__()\n",
        "        self.self_attn = self_attn\n",
        "        self.feed_forward = feed_forward\n",
        "        self.sublayer = clones(SublayerConnection(size, dropout), 2) # 인코더에 add*norm 2번 들어가기 때문임.\n",
        "        self.size = size\n",
        "\n",
        "    def forward(self, x, mask):\n",
        "        \"Follow Figure 1 (left) for connections.\"\n",
        "        x = self.sublayer[0](x, lambda x: self.self_attn(x, x, x, mask))  # (query,key, value, mask)를 의미. # self_attn은 q=k=v기 때문에 모두 x로 표시\n",
        "        return self.sublayer[1](x, self.feed_forward)"
      ],
      "metadata": {
        "id": "ztGsAkTh6sSK"
      },
      "execution_count": null,
      "outputs": []
    },
    {
      "cell_type": "markdown",
      "source": [
        "- Encoder layer는 두개의 sublayer로 구성됨.\n",
        "- 이때 sublayer는 self attenton과 ffn을 말함"
      ],
      "metadata": {
        "id": "gk0vTvFnUu83"
      }
    },
    {
      "cell_type": "markdown",
      "source": [
        "### Decoder"
      ],
      "metadata": {
        "id": "ti19wkXtVlNi"
      }
    },
    {
      "cell_type": "code",
      "source": [
        "class Decoder(nn.Module):\n",
        "  # masking N개 레이어\n",
        "  def __init__(self, layer, N):\n",
        "    super(Decoder, self).__init__()\n",
        "    self.layers = clones(layer, N)\n",
        "    self.norm = LayerNorm(layer.size)\n",
        "\n",
        "  def forward(self, x, memeory, src_mask, tgt_mask):\n",
        "    for layer in self.layers:\n",
        "      x = layer(x, memeory, src_mask, tgt_mask)\n",
        "    return self.norm(x)"
      ],
      "metadata": {
        "id": "3RzOLHpMVXgs"
      },
      "execution_count": null,
      "outputs": []
    },
    {
      "cell_type": "code",
      "source": [
        "class DecoderLayer(nn.Module):\n",
        "  def __init__(self, size, self_attn, src_attn, feed_forward, dropout):\n",
        "    super(DecoderLayer, self).__init__()\n",
        "    self.size = size\n",
        "    self.self_attn = self_attn\n",
        "    self.src_attn = src_attn\n",
        "    self.feed_forward = feed_forward\n",
        "    self.sublayer = clones(SublayerConnection(size,dropout),3)\n",
        "\n",
        "  def forward(self, x, memory, src_mask, tgt_mask):\n",
        "    # 1번 그림의 오른쪽 커넥션\n",
        "    m = memory\n",
        "    x = self.sublayer[0](x, lambda x: self.self_attn(x, x, x, tgt_mask))\n",
        "    x = self.sublayer[1](x, lambda x: self.src_attn(x, m, m, src_mask)) #x: query, m: encoder output (key, value)\n",
        "    return self.sublayer[2](x, self.feed_forward)"
      ],
      "metadata": {
        "id": "ravwV4EAV-SI"
      },
      "execution_count": null,
      "outputs": []
    },
    {
      "cell_type": "code",
      "source": [
        "# 그 다음에 올 단어 마스킹\n",
        "\n",
        "def subsequent_mask(size):\n",
        "  attn_shape = (1, size, size)\n",
        "  subsequent_mask = torch.triu(torch.ones(attn_shape), diagonal=1).type(torch.uint8) # 삼각행렬 생성. 위 상삼각행렬은1, 하삼각행렬은 0\n",
        "  return subsequent_mask ==0"
      ],
      "metadata": {
        "id": "jVUBj2E1V-UP"
      },
      "execution_count": null,
      "outputs": []
    },
    {
      "cell_type": "markdown",
      "source": [
        "### attention"
      ],
      "metadata": {
        "id": "8iceShp7XcmT"
      }
    },
    {
      "cell_type": "code",
      "source": [
        "def attention(query, key, value, mask=None, dropout=None):\n",
        "  # 내적연산\n",
        "  d_k = query.size(-1)\n",
        "  scores = torch.matmul(query, key.transpose(-2,-1)) / math.sqrt(d_k)\n",
        "  if mask is not None:\n",
        "    scores = scores.masked_fill(mask==0, -1e9) # mask 0을 -1e9로 변환 -> softmax 통과한 값이 0이 되게끔 하는 것.# mask 0은 무시하는 토큰\n",
        "  if dropout is not None:\n",
        "    p_attn = dropout(p_attn)\n",
        "  return torch.matmul(p_attn, value), p_attn # attention*score = attention, attention_score 반환"
      ],
      "metadata": {
        "id": "1y4TnhjXV-WW"
      },
      "execution_count": null,
      "outputs": []
    },
    {
      "cell_type": "code",
      "source": [
        "class MultiHeadAttention(nn.Module):\n",
        "  def __inti__(self, h, d_model, dropout=0.1):\n",
        "    super(MultiHeadAttention, self).__init__()\n",
        "    assert d_model %h==0 # assert 뒤의 조건이 True가 아니면 AssertError 발생\n",
        "    # d_v = d_k 라고 가정\n",
        "    self.d_k = d_model//h # 모델을 head 수 만큼 나눠줌.\n",
        "    self.h = h\n",
        "    self.linears = clones(nn.Linear(d_model, d_model),4)\n",
        "    self.attn = None\n",
        "    self.dropout = nn.Dropout(p=dropout)\n",
        "\n",
        "  def forward(self, query, key, value, mask=None):\n",
        "    # 2번 그림\n",
        "    if mask is not None:\n",
        "      mask = mask.unsqueeze(1) # 모든 head에 대해 같은 마스크 적용. 차원 생성 (<-> squeeze: 차원삭제)\n",
        "    nbatches = query.size(0)\n",
        "\n",
        "    # h * d_k에 대해 선형 projection 적용\n",
        "    query, key, value = [\n",
        "        lin(x).view(nbatches, -1, self.h, self.d_k).transpose(1,2)\n",
        "        for lin, x, in zip(self.linears, (query, key, value))\n",
        "    ]\n",
        "\n",
        "    # 배치 dksdml projected vector에 어텐션 적용\n",
        "    x, self_attn = attention(query, key, value, mask=mask, dropout=self.dropout)\n",
        "\n",
        "    # 마지막 선형특에서 concat\n",
        "    x = (x.tranpose(1,2).contigous().view(nbatches, -1, self.h*self.d_k)) #contigous(): 메모리적으로 비연속적인 텐서를 연속적으로 만들어 연산이 가능하게 함.\n",
        "    del query\n",
        "    del key\n",
        "    del value\n",
        "    return self.linears[-1](x)"
      ],
      "metadata": {
        "id": "N8CpJ5OnV-YV"
      },
      "execution_count": null,
      "outputs": []
    },
    {
      "cell_type": "code",
      "source": [
        "import torch\n",
        "x = torch.randn(2,3,4)\n",
        "print(x)\n",
        "print(x.shape)\n",
        "print(x.transpose(1,2)) # (2,3,4) -> (2,4,3)\n",
        "print(x.shape)"
      ],
      "metadata": {
        "colab": {
          "base_uri": "https://localhost:8080/"
        },
        "id": "rgcsoDJmmpbR",
        "outputId": "396c4ac0-2e3b-414a-8aea-3c4d115f4ce5"
      },
      "execution_count": 7,
      "outputs": [
        {
          "output_type": "stream",
          "name": "stdout",
          "text": [
            "tensor([[[ 0.8961,  0.1012,  2.4126,  0.1851],\n",
            "         [-1.0262,  1.0998, -0.8699, -0.2121],\n",
            "         [ 1.2026,  0.0263, -0.1595,  1.4189]],\n",
            "\n",
            "        [[ 0.1604,  0.8029, -0.2120,  0.7522],\n",
            "         [-0.2628,  0.3969,  0.8293, -0.5287],\n",
            "         [-1.4368, -0.2384, -0.2043, -0.1829]]])\n",
            "torch.Size([2, 3, 4])\n",
            "tensor([[[ 0.8961, -1.0262,  1.2026],\n",
            "         [ 0.1012,  1.0998,  0.0263],\n",
            "         [ 2.4126, -0.8699, -0.1595],\n",
            "         [ 0.1851, -0.2121,  1.4189]],\n",
            "\n",
            "        [[ 0.1604, -0.2628, -1.4368],\n",
            "         [ 0.8029,  0.3969, -0.2384],\n",
            "         [-0.2120,  0.8293, -0.2043],\n",
            "         [ 0.7522, -0.5287, -0.1829]]])\n",
            "torch.Size([2, 3, 4])\n"
          ]
        }
      ]
    },
    {
      "cell_type": "code",
      "source": [
        "a = 3\n",
        "assert a==2 # 틀렷으므로 assertion error 발생"
      ],
      "metadata": {
        "colab": {
          "base_uri": "https://localhost:8080/",
          "height": 162
        },
        "id": "XCcfG3DSXzm9",
        "outputId": "c925b6ae-2d55-45ef-d655-e37967226332"
      },
      "execution_count": 3,
      "outputs": [
        {
          "output_type": "error",
          "ename": "AssertionError",
          "evalue": "",
          "traceback": [
            "\u001b[0;31m---------------------------------------------------------------------------\u001b[0m",
            "\u001b[0;31mAssertionError\u001b[0m                            Traceback (most recent call last)",
            "\u001b[0;32m<ipython-input-3-6bd3d33bfb07>\u001b[0m in \u001b[0;36m<cell line: 2>\u001b[0;34m()\u001b[0m\n\u001b[1;32m      1\u001b[0m \u001b[0ma\u001b[0m \u001b[0;34m=\u001b[0m \u001b[0;36m3\u001b[0m\u001b[0;34m\u001b[0m\u001b[0;34m\u001b[0m\u001b[0m\n\u001b[0;32m----> 2\u001b[0;31m \u001b[0;32massert\u001b[0m \u001b[0ma\u001b[0m\u001b[0;34m==\u001b[0m\u001b[0;36m2\u001b[0m\u001b[0;34m\u001b[0m\u001b[0;34m\u001b[0m\u001b[0m\n\u001b[0m",
            "\u001b[0;31mAssertionError\u001b[0m: "
          ]
        }
      ]
    },
    {
      "cell_type": "markdown",
      "source": [
        "### Position-wise Feed-Forward Networks"
      ],
      "metadata": {
        "id": "7NZ--lg7ZAvk"
      }
    },
    {
      "cell_type": "markdown",
      "source": [
        "![image.png](data:image/png;base64,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)"
      ],
      "metadata": {
        "id": "I3CtZH6iZIZR"
      }
    },
    {
      "cell_type": "code",
      "source": [
        "class PositionwiseFeedForward(nn.Module):\n",
        "  def __init__(self, d_model, d_ff, dropout=0.1):\n",
        "    super(PositionwiseFeedForward, self).__init__()\n",
        "    self.w_1 = nn.Linear(d_model, d_ff)\n",
        "    self.w_2 = nn.Linear(d_ff, d_model)\n",
        "    self.dropout = nn.Dropout(dropout)\n",
        "\n",
        "  def forward(self, x):\n",
        "    return self.w_2(self.dropout(self.w_1(x).relu())) # 2개의 선형 층 사이에는 relu로 이어져있음."
      ],
      "metadata": {
        "id": "abHf9ECpZFz5"
      },
      "execution_count": null,
      "outputs": []
    },
    {
      "cell_type": "code",
      "source": [
        "class Embeddings(nn.Module):\n",
        "    def __init__(self, d_model, vocab):\n",
        "        super(Embeddings, self).__init__()\n",
        "        self.lut = nn.Embedding(vocab, d_model) # 단어들의 벡터차원을 모델의 차원으로 변환\n",
        "        self.d_model = d_model\n",
        "\n",
        "    def forward(self, x):\n",
        "        return self.lut(x) * math.sqrt(self.d_model) # 마지막에 root d_model을 곱하여 값 보정"
      ],
      "metadata": {
        "id": "o22x9qD-nOR4"
      },
      "execution_count": null,
      "outputs": []
    },
    {
      "cell_type": "markdown",
      "source": [
        "### Positional encoding\n",
        "- 병렬처리로 인해 단어의 위치를 모르기 때문에 인덱스 알려주는 역할"
      ],
      "metadata": {
        "id": "kcgFEG0bZqAJ"
      }
    },
    {
      "cell_type": "code",
      "source": [
        "class PositionalEncoding(nn.Module):\n",
        "  def __init__(self, d_model, dropout, max_len = 5000):\n",
        "    super(PositionalEncoding, self).__init__()\n",
        "    self.dropout = nn.Dropout(p = dropout)\n",
        "\n",
        "    # 로그스페이스 상에서 포지셔널 인코딩 수행\n",
        "    pe = torch.zeros(max_len, d_model)\n",
        "    position = torch.arange(0, max_len).unsqueeze(1)\n",
        "    div_term = torch.exp(torch.arange(0, d_model, 2)* -(math.log(10000.0)/ d_model))\n",
        "\n",
        "    pe[:, 0::2] = torch.sin(position*div_term) # 짝수번째에는 sin\n",
        "    pe[:, 1::2] = torch.cos(position*div_term) # 홀수번째에는 cos\n",
        "    pe = pe.unsqueeze(0)\n",
        "    self.register_buffer('pe', pe)\n",
        "\n",
        "  def forward(self, x):\n",
        "    x = x+self.pe[:, :x.size(1)].requires_grad_(False)\n",
        "    return self.dropout(x)"
      ],
      "metadata": {
        "id": "QJDPW-IiZF2O"
      },
      "execution_count": null,
      "outputs": []
    },
    {
      "cell_type": "markdown",
      "source": [
        "### 최종 모델 구성"
      ],
      "metadata": {
        "id": "i1GjWYplnw0m"
      }
    },
    {
      "cell_type": "code",
      "source": [
        "def make_model(src_vocab, tgt_vocab, N=6, d_model=512, d_ff=2048, h=8, dropout=0.1):\n",
        "  c = copy.deepcopy\n",
        "  attn = MultiHeadAttention(h, d_model)\n",
        "  ff = PositionwiseFeedForward(d_model, d_ff, dropout)\n",
        "  position = PositionalEncoding(d_model, dropout)\n",
        "  model = EncoderDecoder(\n",
        "      Encoder(EncoderLayer(d_model , c(attn), c(ff), dropout), N),\n",
        "      Decoder(DecoderLayer(d_model , c(attn), c(attn), c(ff), dropout), N),\n",
        "      nn.Sequentioal(Embeddings(d_model, src_vocab), c(position)),\n",
        "      nn.Sequential(Embeddings(d_model, tgt_vocab), c(position)),\n",
        "      Generator(d_model, tgt_vocab),\n",
        "  )\n",
        "\n",
        "  for p in model.parametrs():\n",
        "    if p.dim()> 1:\n",
        "      nn.init.xavier_uniform_(p)\n",
        "  return model"
      ],
      "metadata": {
        "id": "lyFmEx4LZF6s"
      },
      "execution_count": null,
      "outputs": []
    },
    {
      "cell_type": "code",
      "source": [],
      "metadata": {
        "id": "pmBnPr5rZF9A"
      },
      "execution_count": null,
      "outputs": []
    },
    {
      "cell_type": "markdown",
      "source": [
        "참고 사이트:\n",
        "- https://github.com/HosseinZaredar/Transformer-from-Scratch/blob/main/transformer_from_scratch.ipynb\n",
        "- https://nlp.seas.harvard.edu/annotated-transformer/\n",
        "- https://codingopera.tistory.com/74"
      ],
      "metadata": {
        "id": "5UxIlG2eqfDU"
      }
    },
    {
      "cell_type": "code",
      "source": [],
      "metadata": {
        "id": "JV6GC4sRgcu9"
      },
      "execution_count": null,
      "outputs": []
    },
    {
      "cell_type": "markdown",
      "source": [
        "- batch_size: 한번의 학습에서 사용되는 데이터 크기\n",
        "- iteration: 한번의 배치를 모델에 입력하고 학습하는 과정\n",
        "- epoch: 데이터셋 전체를 한번 학습하는 과정"
      ],
      "metadata": {
        "id": "e_cqelDXiDlj"
      }
    },
    {
      "cell_type": "code",
      "source": [],
      "metadata": {
        "id": "jWPXhTnoiGCR"
      },
      "execution_count": null,
      "outputs": []
    }
  ]
}